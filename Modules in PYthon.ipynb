{
 "cells": [
  {
   "cell_type": "code",
   "execution_count": null,
   "metadata": {},
   "outputs": [],
   "source": [
    "# Modules on python"
   ]
  },
  {
   "cell_type": "code",
   "execution_count": 1,
   "metadata": {},
   "outputs": [
    {
     "name": "stdout",
     "output_type": "stream",
     "text": [
      "\n",
      "Please wait a moment while I gather a list of all available modules...\n",
      "\n"
     ]
    },
    {
     "name": "stderr",
     "output_type": "stream",
     "text": [
      "C:\\ProgramData\\Anaconda3\\lib\\site-packages\\IPython\\kernel\\__init__.py:13: ShimWarning: The `IPython.kernel` package has been deprecated since IPython 4.0.You should import from ipykernel or jupyter_client instead.\n",
      "  \"You should import from ipykernel or jupyter_client instead.\", ShimWarning)\n",
      "WARNING: AstropyDeprecationWarning: astropy.utils.compat.futures is now deprecated - use concurrent.futures instead [astropy.utils.compat.futures]\n",
      "C:\\ProgramData\\Anaconda3\\lib\\site-packages\\odo\\backends\\pandas.py:102: FutureWarning: pandas.tslib is deprecated and will be removed in a future version.\n",
      "You can access NaTType as type(pandas.NaT)\n",
      "  @convert.register((pd.Timestamp, pd.Timedelta), (pd.tslib.NaTType, type(None)))\n",
      "C:\\ProgramData\\Anaconda3\\lib\\site-packages\\distributed\\utils.py:134: RuntimeWarning: Couldn't detect a suitable IP address for reaching '8.8.8.8', defaulting to '127.0.0.1': [WinError 10051] A socket operation was attempted to an unreachable network\n",
      "  % (host, default, e), RuntimeWarning)\n",
      "C:\\ProgramData\\Anaconda3\\lib\\site-packages\\nltk\\twitter\\__init__.py:22: UserWarning: The twython library has not been installed. Some functionality from the twitter package will not be available.\n",
      "  \"The twython library has not been installed. \"\n"
     ]
    },
    {
     "name": "stdout",
     "output_type": "stream",
     "text": [
      "DEBUG:pip._internal.vcs:Registered VCS backend: git\n",
      "DEBUG:pip._internal.vcs:Registered VCS backend: hg\n",
      "DEBUG:pip._internal.vcs:Registered VCS backend: svn\n",
      "DEBUG:pip._internal.vcs:Registered VCS backend: bzr\n"
     ]
    },
    {
     "name": "stderr",
     "output_type": "stream",
     "text": [
      "C:\\ProgramData\\Anaconda3\\lib\\site-packages\\skimage\\novice\\__init__.py:103: UserWarning: The `skimage.novice` module was deprecated in version 0.14. It will be removed in 0.16.\n",
      "  warnings.warn(\"The `skimage.novice` module was deprecated in version 0.14. \"\n",
      "C:\\ProgramData\\Anaconda3\\lib\\site-packages\\skimage\\viewer\\utils\\core.py:10: UserWarning: Recommended matplotlib backend is `Agg` for full skimage.viewer functionality.\n",
      "  warn(\"Recommended matplotlib backend is `Agg` for full \"\n",
      "C:\\ProgramData\\Anaconda3\\lib\\site-packages\\sphinx\\websupport\\__init__.py:25: RemovedInSphinx20Warning: sphinx.websupport module is now provided as sphinxcontrib-websupport. sphinx.websupport will be removed at Sphinx-2.0. Please use the package instead.\n",
      "  RemovedInSphinx20Warning)\n",
      "C:\\ProgramData\\Anaconda3\\lib\\site-packages\\qtawesome\\iconic_font.py:276: UserWarning: You need to have a running QApplication to use QtAwesome!\n",
      "  warnings.warn(\"You need to have a running \"\n",
      "C:\\ProgramData\\Anaconda3\\lib\\pkgutil.py:107: VisibleDeprecationWarning: zmq.eventloop.minitornado is deprecated in pyzmq 14.0 and will be removed.\n",
      "    Install tornado itself to use zmq with the tornado IOLoop.\n",
      "    \n",
      "  yield from walk_packages(path, info.name+'.', onerror)\n"
     ]
    },
    {
     "name": "stdout",
     "output_type": "stream",
     "text": [
      "Crypto              bs4                 mccabe              sortedcollections\n",
      "Cython              builtins            menuinst            sortedcontainers\n",
      "IPython             bz2                 mimetypes           sphinx\n",
      "OpenSSL             cProfile            mistune             sphinxcontrib\n",
      "PIL                 calendar            mkl                 spyder\n",
      "PyQt5               certifi             mkl_fft             spyder_breakpoints\n",
      "__future__          cffi                mkl_random          spyder_io_dcm\n",
      "_abc                cgi                 mmap                spyder_io_hdf5\n",
      "_ast                cgitb               mmapfile            spyder_kernels\n",
      "_asyncio            chardet             mmsystem            spyder_profiler\n",
      "_bisect             chunk               modulefinder        spyder_pylint\n",
      "_blake2             click               more_itertools      sqlalchemy\n",
      "_bootlocale         cloudpickle         mpmath              sqlite3\n",
      "_bz2                clyent              msgpack             sre_compile\n",
      "_cffi_backend       cmath               msilib              sre_constants\n",
      "_codecs             cmd                 msvcrt              sre_parse\n",
      "_codecs_cn          code                multipledispatch    ssl\n",
      "_codecs_hk          codecs              multiprocessing     sspi\n",
      "_codecs_iso2022     codeop              navigator_updater   sspicon\n",
      "_codecs_jp          collections         nbconvert           stat\n",
      "_codecs_kr          colorama            nbformat            statistics\n",
      "_codecs_tw          colorsys            netbios             statsmodels\n",
      "_collections        commctrl            netrc               storemagic\n",
      "_collections_abc    compileall          networkx            string\n",
      "_compat_pickle      comtypes            nltk                stringprep\n",
      "_compression        concurrent          nntplib             struct\n",
      "_contextvars        conda               nose                subprocess\n",
      "_csv                conda_build         notebook            sunau\n",
      "_ctypes             conda_env           nt                  symbol\n",
      "_ctypes_test        conda_verify        ntpath              sympy\n",
      "_datetime           configparser        ntsecuritycon       sympyprinting\n",
      "_decimal            contextlib          nturl2path          symtable\n",
      "_distutils_findvs   contextlib2         numba               sys\n",
      "_dummy_thread       contextvars         numbers             sysconfig\n",
      "_elementtree        copy                numexpr             tables\n",
      "_functools          copyreg             numpy               tabnanny\n",
      "_hashlib            crypt               numpydoc            tarfile\n",
      "_heapq              cryptography        odbc                tblib\n",
      "_imp                csv                 odo                 telnetlib\n",
      "_io                 ctypes              olefile             tempfile\n",
      "_json               curl                opcode              terminado\n",
      "_locale             curses              openpyxl            test\n",
      "_lsprof             cwp                 operator            test_path\n",
      "_lzma               cycler              optparse            test_pycosat\n",
      "_markupbase         cython              os                  testpath\n",
      "_md5                cythonmagic         packaging           tests\n",
      "_msi                cytoolz             pandas              textwrap\n",
      "_multibytecodec     dask                pandocfilters       this\n",
      "_multiprocessing    dataclasses         parser              threading\n",
      "_nsis               datashape           parso               time\n",
      "_opcode             datetime            partd               timeit\n",
      "_operator           dateutil            past                timer\n",
      "_osx_support        dbi                 path                tkinter\n",
      "_overlapped         dbm                 pathlib             tlz\n",
      "_pickle             dde                 pathlib2            token\n",
      "_py_abc             decimal             patsy               tokenize\n",
      "_pydecimal          decorator           pdb                 toolz\n",
      "_pyio               defusedxml          pep8                tornado\n",
      "_pytest             difflib             perfmon             tqdm\n",
      "_queue              dis                 pickle              trace\n",
      "_random             distributed         pickleshare         traceback\n",
      "_sha1               distutils           pickletools         tracemalloc\n",
      "_sha256             doctest             pip                 traitlets\n",
      "_sha3               docutils            pipes               tty\n",
      "_sha512             dummy_threading     pkg_resources       turtle\n",
      "_signal             easy_install        pkginfo             turtledemo\n",
      "_sitebuiltins       email               pkgutil             types\n",
      "_socket             encodings           platform            typing\n",
      "_sqlite3            ensurepip           plistlib            unicodecsv\n",
      "_sre                entrypoints         pluggy              unicodedata\n",
      "_ssl                enum                ply                 unittest\n",
      "_stat               errno               poplib              urllib\n",
      "_string             et_xmlfile          posixpath           urllib3\n",
      "_strptime           fastcache           pprint              uu\n",
      "_struct             faulthandler        profile             uuid\n",
      "_symtable           filecmp             prometheus_client   venv\n",
      "_system_path        fileinput           prompt_toolkit      warnings\n",
      "_testbuffer         filelock            pstats              wave\n",
      "_testcapi           flask               psutil              wcwidth\n",
      "_testconsole        flask_cors          pty                 weakref\n",
      "_testimportmultiple fnmatch             py                  webbrowser\n",
      "_testmultiphase     formatter           py_compile          webencodings\n",
      "_thread             fractions           pyclbr              werkzeug\n",
      "_threading_local    ftplib              pycodestyle         wheel\n",
      "_tkinter            functools           pycosat             widgetsnbextension\n",
      "_tracemalloc        future              pycparser           win2kras\n",
      "_warnings           gc                  pycurl              win32api\n",
      "_weakref            genericpath         pydoc               win32clipboard\n",
      "_weakrefset         getopt              pydoc_data          win32com\n",
      "_win32sysloader     getpass             pyexpat             win32con\n",
      "_winapi             gettext             pyflakes            win32console\n",
      "_winxptheme         gevent              pygments            win32cred\n",
      "_yaml               glob                pylab               win32crypt\n",
      "abc                 glob2               pylint              win32cryptcon\n",
      "adodbapi            greenlet            pyodbc              win32event\n",
      "afxres              gzip                pyparsing           win32evtlog\n",
      "aifc                h5py                pytest              win32evtlogutil\n",
      "alabaster           hashlib             pytest_arraydiff    win32file\n",
      "anaconda_navigator  heapdict            pytest_doctestplus  win32gui\n",
      "anaconda_project    heapq               pytest_openfiles    win32gui_struct\n",
      "antigravity         hmac                pytest_remotedata   win32help\n",
      "argparse            html                pythoncom           win32inet\n",
      "array               html5lib            pytz                win32inetcon\n",
      "asn1crypto          http                pywin               win32job\n",
      "ast                 idlelib             pywin32_testutil    win32lz\n",
      "astroid             idna                pywintypes          win32net\n",
      "astropy             imageio             pywt                win32netcon\n",
      "asynchat            imagesize           pyximport           win32pdh\n",
      "asyncio             imaplib             qtawesome           win32pdhquery\n",
      "asyncore            imghdr              qtconsole           win32pdhutil\n",
      "atexit              imp                 qtpy                win32pipe\n",
      "atomicwrites        importlib           queue               win32print\n",
      "attr                importlib_metadata  quopri              win32process\n",
      "audioop             inspect             random              win32profile\n",
      "autoreload          io                  rasutil             win32ras\n",
      "babel               ipaddress           re                  win32rcparser\n",
      "backcall            ipykernel           regcheck            win32security\n",
      "backports           ipykernel_launcher  regutil             win32service\n",
      "base64              ipython_genutils    reprlib             win32serviceutil\n",
      "bdb                 ipywidgets          requests            win32timezone\n",
      "binascii            isapi               rlcompleter         win32trace\n",
      "binhex              isort               rmagic              win32traceutil\n",
      "binstar_client      isympy              rope                win32transaction\n",
      "bisect              itertools           ruamel_yaml         win32ts\n",
      "bitarray            itsdangerous        run                 win32ui\n",
      "bkcharts            jdcal               runpy               win32uiole\n",
      "blaze               jedi                sched               win32verstamp\n",
      "bleach              jinja2              scipy               win32wnet\n",
      "bokeh               json                scripts             win_inet_pton\n",
      "boto                jsonschema          seaborn             win_unicode_console\n",
      "bottleneck          jupyter             secrets             wincertstore\n",
      "brain_argparse      jupyter_client      select              winerror\n",
      "brain_attrs         jupyter_console     selectors           winioctlcon\n",
      "brain_builtin_inference jupyter_core        send2trash          winnt\n",
      "brain_collections   jupyterlab          servicemanager      winperf\n",
      "brain_curses        jupyterlab_server   setuptools          winpty\n",
      "brain_dateutil      keyring             shelve              winreg\n",
      "brain_fstrings      keyword             shlex               winsound\n",
      "brain_functools     kiwisolver          shutil              winxpgui\n",
      "brain_gi            lazy_object_proxy   signal              winxptheme\n",
      "brain_hashlib       lib2to3             simplegeneric       wrapt\n",
      "brain_io            libarchive          singledispatch      wsgiref\n",
      "brain_mechanize     libfuturize         singledispatch_helpers xdrlib\n",
      "brain_multiprocessing libpasteurize       sip                 xlrd\n",
      "brain_namedtuple_enum linecache           sipconfig           xlsxwriter\n",
      "brain_nose          llvmlite            sipdistutils        xlwings\n",
      "brain_numpy         locale              site                xlwt\n",
      "brain_pkg_resources locket              six                 xml\n",
      "brain_pytest        logging             skimage             xmlrpc\n",
      "brain_qt            lxml                sklearn             xxsubtype\n",
      "brain_random        lzma                smtpd               yaml\n",
      "brain_re            macpath             smtplib             zict\n",
      "brain_six           mailbox             sndhdr              zipapp\n",
      "brain_ssl           mailcap             snowballstemmer     zipfile\n",
      "brain_subprocess    markupsafe          socket              zipimport\n",
      "brain_threading     marshal             socketserver        zlib\n",
      "brain_typing        math                socks               zmq\n",
      "brain_uuid          matplotlib          sockshandler        \n",
      "\n",
      "Enter any module name to get more help.  Or, type \"modules spam\" to search\n",
      "for modules whose name or summary contain the string \"spam\".\n",
      "\n",
      "DEBUG:matplotlib.pyplot:Loaded backend module://ipykernel.pylab.backend_inline version unknown.\n"
     ]
    }
   ],
   "source": [
    "help('modules')"
   ]
  },
  {
   "cell_type": "code",
   "execution_count": 5,
   "metadata": {},
   "outputs": [
    {
     "name": "stdout",
     "output_type": "stream",
     "text": [
      "['Annotation', 'Arrow', 'Artist', 'AutoLocator', 'Axes', 'Button', 'Circle', 'Figure', 'FigureCanvasBase', 'FixedFormatter', 'FixedLocator', 'FormatStrFormatter', 'Formatter', 'FuncFormatter', 'GridSpec', 'IndexLocator', 'Line2D', 'LinearLocator', 'Locator', 'LogFormatter', 'LogFormatterExponent', 'LogFormatterMathtext', 'LogLocator', 'MaxNLocator', 'MultipleLocator', 'Normalize', 'NullFormatter', 'NullLocator', 'Number', 'PolarAxes', 'Polygon', 'Rectangle', 'ScalarFormatter', 'Slider', 'Subplot', 'SubplotTool', 'Text', 'TickHelper', 'Widget', '_INSTALL_FIG_OBSERVER', '_IP_REGISTERED', '__builtins__', '__cached__', '__doc__', '__file__', '__loader__', '__name__', '__package__', '__spec__', '_auto_draw_if_interactive', '_autogen_docstring', '_backend_mod', '_get_running_interactive_framework', '_interactive_bk', '_log', '_pylab_helpers', '_setp', '_setup_pyplot_info_docstrings', '_show', '_string_to_bool', 'acorr', 'angle_spectrum', 'annotate', 'arrow', 'autoscale', 'autumn', 'axes', 'axhline', 'axhspan', 'axis', 'axvline', 'axvspan', 'bar', 'barbs', 'barh', 'bone', 'box', 'boxplot', 'broken_barh', 'cla', 'clabel', 'clf', 'clim', 'close', 'cm', 'cohere', 'colorbar', 'colormaps', 'connect', 'contour', 'contourf', 'cool', 'copper', 'csd', 'cycler', 'dedent', 'delaxes', 'deprecated', 'disconnect', 'docstring', 'draw', 'draw_all', 'draw_if_interactive', 'errorbar', 'eventplot', 'figaspect', 'figimage', 'figlegend', 'fignum_exists', 'figtext', 'figure', 'fill', 'fill_between', 'fill_betweenx', 'findobj', 'flag', 'gca', 'gcf', 'gci', 'get', 'get_backend', 'get_cmap', 'get_current_fig_manager', 'get_figlabels', 'get_fignums', 'get_plot_commands', 'get_scale_docs', 'get_scale_names', 'getp', 'ginput', 'gray', 'grid', 'hexbin', 'hist', 'hist2d', 'hlines', 'hot', 'hsv', 'importlib', 'imread', 'imsave', 'imshow', 'inferno', 'inspect', 'install_repl_displayhook', 'interactive', 'ioff', 'ion', 'isinteractive', 'jet', 'legend', 'locator_params', 'logging', 'loglog', 'magma', 'magnitude_spectrum', 'margins', 'matplotlib', 'matshow', 'minorticks_off', 'minorticks_on', 'mlab', 'new_figure_manager', 'nipy_spectral', 'np', 'pause', 'pcolor', 'pcolormesh', 'phase_spectrum', 'pie', 'pink', 'plasma', 'plot', 'plot_date', 'plotfile', 'plotting', 'polar', 'prism', 'psd', 'pylab_setup', 'quiver', 'quiverkey', 'rc', 'rcParams', 'rcParamsDefault', 'rcParamsOrig', 'rc_context', 'rcdefaults', 'rcsetup', 're', 'register_cmap', 'rgrids', 'savefig', 'sca', 'scatter', 'sci', 'semilogx', 'semilogy', 'set_cmap', 'setp', 'show', 'silent_list', 'specgram', 'spring', 'spy', 'stackplot', 'stem', 'step', 'streamplot', 'style', 'subplot', 'subplot2grid', 'subplot_tool', 'subplots', 'subplots_adjust', 'summer', 'suptitle', 'switch_backend', 'sys', 'table', 'text', 'thetagrids', 'tick_params', 'ticklabel_format', 'tight_layout', 'time', 'title', 'tricontour', 'tricontourf', 'tripcolor', 'triplot', 'twinx', 'twiny', 'uninstall_repl_displayhook', 'violinplot', 'viridis', 'vlines', 'waitforbuttonpress', 'warn_deprecated', 'warnings', 'winter', 'xcorr', 'xkcd', 'xlabel', 'xlim', 'xscale', 'xticks', 'ylabel', 'ylim', 'yscale', 'yticks']\n"
     ]
    }
   ],
   "source": [
    " from matplotlib import pyplot\n",
    "print(dir(pyplot))"
   ]
  },
  {
   "cell_type": "code",
   "execution_count": 2,
   "metadata": {},
   "outputs": [
    {
     "data": {
      "image/png": "[encoded data removed]",
      "text/plain": [
       "<Figure size 432x288 with 1 Axes>"
      ]
     },
     "metadata": {
      "needs_background": "light"
     },
     "output_type": "display_data"
    },
    {
     "ename": "ValueError",
     "evalue": "'label' must be of length 'x'",
     "output_type": "error",
     "traceback": [
      "\u001b[1;31m---------------------------------------------------------------------------\u001b[0m",
      "\u001b[1;31mValueError\u001b[0m                                Traceback (most recent call last)",
      "\u001b[1;32m<ipython-input-2-ea1f69567ad0>\u001b[0m in \u001b[0;36m<module>\u001b[1;34m\u001b[0m\n\u001b[0;32m     26\u001b[0m        \u001b[0mshadow\u001b[0m \u001b[1;33m=\u001b[0m \u001b[1;32mTrue\u001b[0m\u001b[1;33m,\u001b[0m\u001b[1;33m\u001b[0m\u001b[1;33m\u001b[0m\u001b[0m\n\u001b[0;32m     27\u001b[0m        \u001b[0mexplode\u001b[0m \u001b[1;33m=\u001b[0m \u001b[1;33m(\u001b[0m\u001b[1;36m0\u001b[0m\u001b[1;33m,\u001b[0m \u001b[1;36m0.1\u001b[0m\u001b[1;33m,\u001b[0m \u001b[1;36m0\u001b[0m\u001b[1;33m,\u001b[0m \u001b[1;36m0\u001b[0m\u001b[1;33m)\u001b[0m\u001b[1;33m,\u001b[0m\u001b[1;33m\u001b[0m\u001b[1;33m\u001b[0m\u001b[0m\n\u001b[1;32m---> 28\u001b[1;33m        autopct = '%1.1f%%')\n\u001b[0m\u001b[0;32m     29\u001b[0m \u001b[0mplt\u001b[0m\u001b[1;33m.\u001b[0m\u001b[0mtitle\u001b[0m\u001b[1;33m(\u001b[0m\u001b[1;34m'Pie plot'\u001b[0m\u001b[1;33m)\u001b[0m\u001b[1;33m\u001b[0m\u001b[1;33m\u001b[0m\u001b[0m\n\u001b[0;32m     30\u001b[0m \u001b[0mplt\u001b[0m\u001b[1;33m.\u001b[0m\u001b[0mshow\u001b[0m\u001b[1;33m(\u001b[0m\u001b[1;33m)\u001b[0m\u001b[1;33m\u001b[0m\u001b[1;33m\u001b[0m\u001b[0m\n",
      "\u001b[1;32mC:\\ProgramData\\Anaconda3\\lib\\site-packages\\matplotlib\\pyplot.py\u001b[0m in \u001b[0;36mpie\u001b[1;34m(x, explode, labels, colors, autopct, pctdistance, shadow, labeldistance, startangle, radius, counterclock, wedgeprops, textprops, center, frame, rotatelabels, data)\u001b[0m\n\u001b[0;32m   2803\u001b[0m         \u001b[0mwedgeprops\u001b[0m\u001b[1;33m=\u001b[0m\u001b[0mwedgeprops\u001b[0m\u001b[1;33m,\u001b[0m \u001b[0mtextprops\u001b[0m\u001b[1;33m=\u001b[0m\u001b[0mtextprops\u001b[0m\u001b[1;33m,\u001b[0m \u001b[0mcenter\u001b[0m\u001b[1;33m=\u001b[0m\u001b[0mcenter\u001b[0m\u001b[1;33m,\u001b[0m\u001b[1;33m\u001b[0m\u001b[1;33m\u001b[0m\u001b[0m\n\u001b[0;32m   2804\u001b[0m         frame=frame, rotatelabels=rotatelabels, **({\"data\": data} if\n\u001b[1;32m-> 2805\u001b[1;33m         data is not None else {}))\n\u001b[0m\u001b[0;32m   2806\u001b[0m \u001b[1;33m\u001b[0m\u001b[0m\n\u001b[0;32m   2807\u001b[0m \u001b[1;33m\u001b[0m\u001b[0m\n",
      "\u001b[1;32mC:\\ProgramData\\Anaconda3\\lib\\site-packages\\matplotlib\\__init__.py\u001b[0m in \u001b[0;36minner\u001b[1;34m(ax, data, *args, **kwargs)\u001b[0m\n\u001b[0;32m   1808\u001b[0m                         \u001b[1;34m\"the Matplotlib list!)\"\u001b[0m \u001b[1;33m%\u001b[0m \u001b[1;33m(\u001b[0m\u001b[0mlabel_namer\u001b[0m\u001b[1;33m,\u001b[0m \u001b[0mfunc\u001b[0m\u001b[1;33m.\u001b[0m\u001b[0m__name__\u001b[0m\u001b[1;33m)\u001b[0m\u001b[1;33m,\u001b[0m\u001b[1;33m\u001b[0m\u001b[1;33m\u001b[0m\u001b[0m\n\u001b[0;32m   1809\u001b[0m                         RuntimeWarning, stacklevel=2)\n\u001b[1;32m-> 1810\u001b[1;33m             \u001b[1;32mreturn\u001b[0m \u001b[0mfunc\u001b[0m\u001b[1;33m(\u001b[0m\u001b[0max\u001b[0m\u001b[1;33m,\u001b[0m \u001b[1;33m*\u001b[0m\u001b[0margs\u001b[0m\u001b[1;33m,\u001b[0m \u001b[1;33m**\u001b[0m\u001b[0mkwargs\u001b[0m\u001b[1;33m)\u001b[0m\u001b[1;33m\u001b[0m\u001b[1;33m\u001b[0m\u001b[0m\n\u001b[0m\u001b[0;32m   1811\u001b[0m \u001b[1;33m\u001b[0m\u001b[0m\n\u001b[0;32m   1812\u001b[0m         inner.__doc__ = _add_data_doc(inner.__doc__,\n",
      "\u001b[1;32mC:\\ProgramData\\Anaconda3\\lib\\site-packages\\matplotlib\\axes\\_axes.py\u001b[0m in \u001b[0;36mpie\u001b[1;34m(self, x, explode, labels, colors, autopct, pctdistance, shadow, labeldistance, startangle, radius, counterclock, wedgeprops, textprops, center, frame, rotatelabels)\u001b[0m\n\u001b[0;32m   2808\u001b[0m             \u001b[0mexplode\u001b[0m \u001b[1;33m=\u001b[0m \u001b[1;33m[\u001b[0m\u001b[1;36m0\u001b[0m\u001b[1;33m]\u001b[0m \u001b[1;33m*\u001b[0m \u001b[0mlen\u001b[0m\u001b[1;33m(\u001b[0m\u001b[0mx\u001b[0m\u001b[1;33m)\u001b[0m\u001b[1;33m\u001b[0m\u001b[1;33m\u001b[0m\u001b[0m\n\u001b[0;32m   2809\u001b[0m         \u001b[1;32mif\u001b[0m \u001b[0mlen\u001b[0m\u001b[1;33m(\u001b[0m\u001b[0mx\u001b[0m\u001b[1;33m)\u001b[0m \u001b[1;33m!=\u001b[0m \u001b[0mlen\u001b[0m\u001b[1;33m(\u001b[0m\u001b[0mlabels\u001b[0m\u001b[1;33m)\u001b[0m\u001b[1;33m:\u001b[0m\u001b[1;33m\u001b[0m\u001b[1;33m\u001b[0m\u001b[0m\n\u001b[1;32m-> 2810\u001b[1;33m             \u001b[1;32mraise\u001b[0m \u001b[0mValueError\u001b[0m\u001b[1;33m(\u001b[0m\u001b[1;34m\"'label' must be of length 'x'\"\u001b[0m\u001b[1;33m)\u001b[0m\u001b[1;33m\u001b[0m\u001b[1;33m\u001b[0m\u001b[0m\n\u001b[0m\u001b[0;32m   2811\u001b[0m         \u001b[1;32mif\u001b[0m \u001b[0mlen\u001b[0m\u001b[1;33m(\u001b[0m\u001b[0mx\u001b[0m\u001b[1;33m)\u001b[0m \u001b[1;33m!=\u001b[0m \u001b[0mlen\u001b[0m\u001b[1;33m(\u001b[0m\u001b[0mexplode\u001b[0m\u001b[1;33m)\u001b[0m\u001b[1;33m:\u001b[0m\u001b[1;33m\u001b[0m\u001b[1;33m\u001b[0m\u001b[0m\n\u001b[0;32m   2812\u001b[0m             \u001b[1;32mraise\u001b[0m \u001b[0mValueError\u001b[0m\u001b[1;33m(\u001b[0m\u001b[1;34m\"'explode' must be of length 'x'\"\u001b[0m\u001b[1;33m)\u001b[0m\u001b[1;33m\u001b[0m\u001b[1;33m\u001b[0m\u001b[0m\n",
      "\u001b[1;31mValueError\u001b[0m: 'label' must be of length 'x'"
     ]
    },
    {
     "data": {
      "image/png": "[encoded data removed]",
      "text/plain": [
       "<Figure size 432x288 with 1 Axes>"
      ]
     },
     "metadata": {
      "needs_background": "light"
     },
     "output_type": "display_data"
    }
   ],
   "source": [
    "from matplotlib import pyplot as plt\n",
    "\n",
    "plt.bar([0.25,1.25,2.25,3.25,4.25],[50,40,70,80,20], label= 'BMW', width = .5 )\n",
    "plt.bar([0.75,1.75,2.75,3.75,4.75],[80,20,20,50,60], label= 'Audi', color = 'r',width = .5 )\n",
    "plt.legend()\n",
    "plt.xlabel(\"Days\")\n",
    "plt.ylabel('Distance (kms)')\n",
    "plt.title('Information')\n",
    "plt.show()\n",
    "\n",
    "#Piechart\n",
    "days = [1,2,3,4,5]\n",
    "\n",
    "sleeping = [7,8,6,11,7]\n",
    "eating = [2,3,4,3,2]\n",
    "working = [7,8,7,2,2]\n",
    "playing = [8,5,7,8,13]\n",
    "slices = [7,2,2,13]\n",
    "activities = ['sleeping', 'eating,' 'working','playing']\n",
    "cols = ['c','m','r','b']\n",
    "\n",
    "plt.pie(slices,\n",
    "       labels=activities,\n",
    "       colors = cols,\n",
    "       startangle=90,\n",
    "       shadow = True,\n",
    "       explode = (0, 0.1, 0, 0),\n",
    "       autopct = '%1.1f%%')\n",
    "plt.title('Pie plot')\n",
    "plt.show()"
   ]
  },
  {
   "cell_type": "code",
   "execution_count": null,
   "metadata": {},
   "outputs": [],
   "source": []
  }
 ],
 "metadata": {
  "kernelspec": {
   "display_name": "Python 3",
   "language": "python",
   "name": "python3"
  },
  "language_info": {
   "codemirror_mode": {
    "name": "ipython",
    "version": 3
   },
   "file_extension": ".py",
   "mimetype": "text/x-python",
   "name": "python",
   "nbconvert_exporter": "python",
   "pygments_lexer": "ipython3",
   "version": "3.7.1"
  }
 },
 "nbformat": 4,
 "nbformat_minor": 2
}
