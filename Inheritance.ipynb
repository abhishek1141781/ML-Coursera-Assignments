{
 "cells": [
  {
   "cell_type": "code",
   "execution_count": 5,
   "metadata": {},
   "outputs": [
    {
     "name": "stdout",
     "output_type": "stream",
     "text": [
      "feature 3 working\n",
      "feature 4 working\n",
      "feature 1 working\n",
      "feature 2 working\n"
     ]
    }
   ],
   "source": [
    "class A:\n",
    "    def feature1(self):\n",
    "        print(\"feature 1 working\")\n",
    "        \n",
    "        \n",
    "    \n",
    "    def feature2(self):\n",
    "        print(\"feature 2 working\")\n",
    "        \n",
    "class B(A):\n",
    "    def feature3(self):\n",
    "        print(\"feature 3 working\")\n",
    "        \n",
    "    \n",
    "    def feature4(self):\n",
    "        print(\"feature 4 working\")\n",
    "        \n",
    "\n",
    "\n",
    "b1 = B()\n",
    "\n",
    "b1.feature3()\n",
    "b1.feature4()\n",
    "        \n",
    "        \n",
    "class C(B):\n",
    "#class C(A,B):        also this\n",
    "        \n",
    "    a1 = A()\n",
    "\n",
    "\n",
    "    a1.feature1()\n",
    "    a1.feature2()\n",
    "\n"
   ]
  },
  {
   "cell_type": "code",
   "execution_count": null,
   "metadata": {},
   "outputs": [],
   "source": []
  }
 ],
 "metadata": {
  "kernelspec": {
   "display_name": "Python 3",
   "language": "python",
   "name": "python3"
  },
  "language_info": {
   "codemirror_mode": {
    "name": "ipython",
    "version": 3
   },
   "file_extension": ".py",
   "mimetype": "text/x-python",
   "name": "python",
   "nbconvert_exporter": "python",
   "pygments_lexer": "ipython3",
   "version": "3.7.1"
  }
 },
 "nbformat": 4,
 "nbformat_minor": 2
}
